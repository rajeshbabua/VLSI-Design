{
 "cells": [
  {
   "cell_type": "code",
   "execution_count": 11,
   "metadata": {},
   "outputs": [
    {
     "name": "stdout",
     "output_type": "stream",
     "text": [
      "%s hello world 10\n",
      "%s hello world 20\n",
      "%s hello world 30\n",
      "%s hello world 40\n",
      "%s hello world 50\n",
      "%s hello world 60\n",
      "%s hello world 70\n",
      "%s hello world 80\n",
      "%s hello world 90\n",
      "%s hello world 100\n"
     ]
    },
    {
     "name": "stderr",
     "output_type": "stream",
     "text": [
      "<class 'myhdl._SuspendSimulation'>: Simulated 100 timesteps\n"
     ]
    },
    {
     "data": {
      "text/plain": [
       "1"
      ]
     },
     "execution_count": 11,
     "metadata": {},
     "output_type": "execute_result"
    }
   ],
   "source": [
    "import myhdl\n",
    "\n",
    "from myhdl import *\n",
    "\n",
    "@block  ##################defining a module\n",
    "def hw():\n",
    "    \n",
    "    @always(delay(10)) ########defining the logic\n",
    "    def s_hw():\n",
    "        print(\"%s hello world\",now())\n",
    "    return s_hw   \n",
    "\n",
    "inst = Simulation(hw())##########simulating the function for errors\n",
    "inst.run(100)  #####running it for 100 secs at intermittent delays of 10\n"
   ]
  },
  {
   "cell_type": "code",
   "execution_count": 10,
   "metadata": {},
   "outputs": [],
   "source": [
    "############only one simulation can be active at once so quit it after running.\n",
    "\n",
    "inst.quit()"
   ]
  },
  {
   "cell_type": "code",
   "execution_count": null,
   "metadata": {},
   "outputs": [],
   "source": []
  }
 ],
 "metadata": {
  "kernelspec": {
   "display_name": "Python 3",
   "language": "python",
   "name": "python3"
  },
  "language_info": {
   "codemirror_mode": {
    "name": "ipython",
    "version": 3
   },
   "file_extension": ".py",
   "mimetype": "text/x-python",
   "name": "python",
   "nbconvert_exporter": "python",
   "pygments_lexer": "ipython3",
   "version": "3.6.5"
  }
 },
 "nbformat": 4,
 "nbformat_minor": 2
}
