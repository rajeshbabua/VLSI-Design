{
 "cells": [
  {
   "cell_type": "code",
   "execution_count": 19,
   "metadata": {},
   "outputs": [
    {
     "name": "stderr",
     "output_type": "stream",
     "text": [
      "/home/dcb/anaconda3/lib/python3.6/site-packages/ipykernel_launcher.py:32: UserWarning: \n",
      "    traceSignals(): Deprecated usage: See http://dev.myhdl.org/meps/mep-114.html\n",
      "<class 'myhdl._SuspendSimulation'>: Simulated 2000 timesteps\n"
     ]
    }
   ],
   "source": [
    "import myhdl\n",
    "from myhdl import *\n",
    "\n",
    "def dff(q,d,clk):\n",
    "    \n",
    "    @always(clk.posedge)\n",
    "    def logic():\n",
    "        q.next = d\n",
    "        \n",
    "    return logic\n",
    "\n",
    "from random import randrange\n",
    "\n",
    "###############writing  testbench for verifying the d_flipflop function above\n",
    "\n",
    "def test_dff():\n",
    "    q,d,clk = [Signal(bool(0)) for i in range(3)]\n",
    "    dff_inst = dff(q,d,clk)\n",
    "\n",
    "    @always(delay(10))\n",
    "    def clkgen():\n",
    "        clk.next = not clk\n",
    "\n",
    "    @always(clk.negedge)\n",
    "    def stimulus():\n",
    "        d.next = randrange(2)\n",
    "    \n",
    "    return dff_inst, clkgen,stimulus\n",
    "\n",
    "#########################simulating the testbench and running \n",
    "def simulate(timesteps):\n",
    "    tb= traceSignals(test_dff)  ##########tracesignals allows you to generate the .VCD(value change dump) file.\n",
    "                                ############################ one can visualize the functioning in terms of waveform\n",
    "    sim = Simulation(tb)\n",
    "    sim.run(timesteps)\n",
    "  \n",
    "simulate(2000)\n"
   ]
  },
  {
   "cell_type": "code",
   "execution_count": 20,
   "metadata": {},
   "outputs": [],
   "source": [
    "############only one simulation can be active at once so quit it after running.\n",
    "\n",
    "inst.quit()"
   ]
  },
  {
   "cell_type": "code",
   "execution_count": null,
   "metadata": {},
   "outputs": [],
   "source": []
  }
 ],
 "metadata": {
  "kernelspec": {
   "display_name": "Python 3",
   "language": "python",
   "name": "python3"
  },
  "language_info": {
   "codemirror_mode": {
    "name": "ipython",
    "version": 3
   },
   "file_extension": ".py",
   "mimetype": "text/x-python",
   "name": "python",
   "nbconvert_exporter": "python",
   "pygments_lexer": "ipython3",
   "version": "3.6.5"
  }
 },
 "nbformat": 4,
 "nbformat_minor": 2
}
